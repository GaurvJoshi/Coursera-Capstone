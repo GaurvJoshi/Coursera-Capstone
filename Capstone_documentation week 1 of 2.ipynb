{
    "cells": [
        {
            "cell_type": "markdown",
            "metadata": {
                "collapsed": true
            },
            "source": "# Coursera IBM Data Science Capstone Project - The Battle of the Neighborhoods"
        },
        {
            "cell_type": "markdown",
            "metadata": {},
            "source": "## Finat Submission:- Report"
        },
        {
            "cell_type": "markdown",
            "metadata": {},
            "source": "## Determining locations for gym's in Delhi NCR, India "
        },
        {
            "cell_type": "markdown",
            "metadata": {},
            "source": "### Author :- Gaurav"
        },
        {
            "cell_type": "markdown",
            "metadata": {},
            "source": "# Table of Contents\n    1. Introduction\n    2. Business Problem\n    3. Data\n    4. Methodology\n    5. Analysis\n    6. Results and Discussion\n    7. Conclusion\n    8. References"
        },
        {
            "cell_type": "markdown",
            "metadata": {},
            "source": "## Introduction"
        },
        {
            "cell_type": "markdown",
            "metadata": {},
            "source": "Obesity brings with it a host of health risks like heart disease, stroke and high blood pressure. The survey of over 1,000 respondents in Delhi-NCR, both men and women in age group of 18-45, also found that poor self-image and lifestyle disorders was a common worry among the obese people.\nObesity in India has reached epidemic proportions in the 21st century, with morbid obesity affecting 5% of the country's population. India is following a trend of other developing countries that are steadily becoming more obese.\n\nIn India, the prevalence of overweight and obesity has increased rapidly in recent decades. Given the association between overweight and obesity with many non-communicable diseases, forecasts of the future prevalence of overweight and obesity can help inform policy in a country where around one sixth of the world\u2019s population resides."
        },
        {
            "cell_type": "markdown",
            "metadata": {},
            "source": "## Bussiness Problem"
        },
        {
            "cell_type": "markdown",
            "metadata": {},
            "source": "In Delhi,NCR, India where 45.5% of the male population and 49.8% of the female population are suffering from obesity, which is capital of India and place where major working population resides and yet they have few gyms around them to keep them healthy. A company *XYZ* wanted to start a gym chain in Delhi so we might suggest them some place for their gyms.\nWhere they can atleast work on their health and keep them fit because according to Centre of Diease Control(CDC), 45-60 mins are enough for one them to keep them healthy. As these gyms will be available to them in their neighborhood so they can easily reachout their.\n\nThe target market for these gyms would be the entire community in which it resides, as the gym would provide ample variety in activities that all age groups from adolescent to senior citizen would be able to partake and benefit from the physical activity, promoting healthier lifestyles and aiding in the prevention of obesity in Delhi."
        },
        {
            "cell_type": "markdown",
            "metadata": {},
            "source": "# Data"
        },
        {
            "cell_type": "markdown",
            "metadata": {},
            "source": "To work on this bussiness model we require data of Delhi neighborhood and their coordinates.As this will tell us about which neighborhoods to target the primarily and also help us to know nearby places.\n\nThis data will also helps us in clustering the data and by searching the nearby places we can check for neighborhood those who doesn't have gym in around them.\n\nNearby places will be accessed by using Foursquare api.\n\nLink for the Delhi neighbourhood data :- https://github.com/GaurvJoshi/Coursera-Capstone/blob/master/delhi_dataSet.csv"
        },
        {
            "cell_type": "markdown",
            "metadata": {},
            "source": "# Methodology"
        },
        {
            "cell_type": "markdown",
            "metadata": {},
            "source": "Jupyter Notebook, will be used to utilize Python 3 programming code, which will be the primary means of analyzing, visualizing, and reviewing the data. The Pandas Library, which offers data structures and operations for manipulating data, will be used to import the datasets from CSV downloaded from the internet with data containing to Delhi neighborhood.\n\nGeoPy, will be used with Nomatim API package, which will be used to determine the coordinates of Delhi, India. These coordinates will then be used to generate a map with help of the Folium package in Python. Folium is a library that allows for a visualization of interactive spatial data. Once this map is created, markers will be added to the map to indicate the exact location of all the zip codes within Delhi neighborhood.\n\nNext the Foursquare API will be accessed to search the venues within each neighborhood. This list will be converted into a dataframe, and one-hot encoding will be used for determining the number of occurances of each venue category within each neighborhood. The mean frequency of each category will then be taken and the updated dataframe will group the rows of the dataframe by neighborhood and the resulting mean frequency of each venue category. \n\nThis dataframe will be used to create a new dataframe which contains only the frequency of gyms in each neighborhood. There are two categories that could be classified as a gym in Foursquare (\u201cGym\u201d, and \u201cGym/ Fitness Center\u201d), so frequency of both of these categories will be summed and the new dataframe will be grouped by zip code and the total frequency of the combined gym categories.\n\nThe previously created Folium map displaying the Delhi, with markers representing each neighborhood, will then be updated such that the markers are color-coded to identify which cluster each neighborhood belongs to. Finally, each cluster will be analyzed and the results will be reviewed to make a recommendation of the ideal location for the new gyms in Delhi,India.\n\nTo manipulate, visualize, and analyze the above mentioned datasets, the above mentioned resources will be used. "
        },
        {
            "cell_type": "markdown",
            "metadata": {},
            "source": "# Result And Discussion"
        },
        {
            "cell_type": "markdown",
            "metadata": {},
            "source": "Of the 3 clusters that were generated utilizing k-means clustering with the Scikit learn library, the some neighbourgood were clustered more heavily in one of the three cluster which Cluster 0. The remaining clusters had much lower neighborhood attributed to them. This was due to the very low level of mean frequency of occurrence of gyms in the neighborhood contained within Cluster 0, and a relatively higher mean frequency of occurrence in Clusters 1 and 2.\n\nGiven this, Cluster 0 would be the optimal cluster to isolate as potential location for the new gyms. With the low overall average of the mean frequency of occurrence of a gym occurring in Cluster 0, this would be the target cluster proposing a new location for the gyms in Delhi. Based solely on the information presented, several neighborhood that would potentially provide optimum return on investment by generating higher membership rates could be considered, providing a greater chance of exposure to the general public.\n\nAdditional research could be performed to incorporate average household income, demographic breakdown, and commercial real estate rental and purchase rates within each zip code to make a better assessment of the ideal location to open a gym by further identifying the target market."
        },
        {
            "cell_type": "markdown",
            "metadata": {},
            "source": "# Conclusion \n\nThis project used Python in Jupyter Notebook to access and manipulate datasets pertaining to Delhi adult obesity rates, neighborhood and associated census and geographic data. This data was manipulated and analyzed using various Python libraries, such as Pandas, Matplotlib, Scikit Learn, and GeoPy. Additionally, the Foursquare API was utilized to identify the frequency of occurrence of gyms within each neighborhood in Delhi, India. Using k-means clustering, 3 clusters were created from the 163 neighborhood within Delhi. Using this information, it was identified that based on frequency of gym occurrence alone, the ideal location for a gym would be in one of the attributed to Cluster 0. From there, it was suggested that one of the three highest populated neighborhood within Cluster 0 be further explored as the potential site of a new gym."
        },
        {
            "cell_type": "code",
            "execution_count": null,
            "metadata": {},
            "outputs": [],
            "source": ""
        }
    ],
    "metadata": {
        "kernelspec": {
            "display_name": "Python 3.6",
            "language": "python",
            "name": "python3"
        },
        "language_info": {
            "codemirror_mode": {
                "name": "ipython",
                "version": 3
            },
            "file_extension": ".py",
            "mimetype": "text/x-python",
            "name": "python",
            "nbconvert_exporter": "python",
            "pygments_lexer": "ipython3",
            "version": "3.6.9"
        }
    },
    "nbformat": 4,
    "nbformat_minor": 1
}