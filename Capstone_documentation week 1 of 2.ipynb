{
    "cells": [
        {
            "cell_type": "markdown",
            "metadata": {
                "collapsed": true
            },
            "source": "# Coursera IBM Data Science Capstone Project - The Battle of the Neighborhoods"
        },
        {
            "cell_type": "markdown",
            "metadata": {},
            "source": "## First Submission:- Report"
        },
        {
            "cell_type": "markdown",
            "metadata": {},
            "source": "## Determining locations for gym's in Delhi NCR, India "
        },
        {
            "cell_type": "markdown",
            "metadata": {},
            "source": "#### Author :- Gaurav"
        },
        {
            "cell_type": "markdown",
            "metadata": {},
            "source": "# Table of Contents\n    1. Introduction\n    2. Business Problem\n    3. Data\n    4. Methodology\n    5. Analysis\n    6. Results and Discussion\n    7. Conclusion\n    8. References"
        },
        {
            "cell_type": "markdown",
            "metadata": {},
            "source": "## Introduction"
        },
        {
            "cell_type": "markdown",
            "metadata": {},
            "source": "Obesity brings with it a host of health risks like heart disease, stroke and high blood pressure. The survey of over 1,000 respondents in Delhi-NCR, both men and women in age group of 18-45, also found that poor self-image and lifestyle disorders was a common worry among the obese people.\nObesity in India has reached epidemic proportions in the 21st century, with morbid obesity affecting 5% of the country's population. India is following a trend of other developing countries that are steadily becoming more obese.\n\nIn India, the prevalence of overweight and obesity has increased rapidly in recent decades. Given the association between overweight and obesity with many non-communicable diseases, forecasts of the future prevalence of overweight and obesity can help inform policy in a country where around one sixth of the world\u2019s population resides."
        },
        {
            "cell_type": "markdown",
            "metadata": {},
            "source": "## Bussiness Problem"
        },
        {
            "cell_type": "markdown",
            "metadata": {},
            "source": "In Delhi,NCR, India where 45.5% of the male population and 49.8% of the female population are suffering from obesity, which is capital of India and place where major working population resides and yet they have few gyms around them to keep them healthy. A company *XYZ* wanted to start a gym chain in Delhi so we might suggest them some place for their gyms.\nWhere they can atleast work on their health and keep them fit because according to Centre of Diease Control(CDC), 45-60 mins are enough for one them to keep them healthy. As these gyms will be available to them in their neighborhood so they can easily reachout their.\n\nThe target market for these gyms would be the entire community in which it resides, as the gym would provide ample variety in activities that all age groups from adolescent to senior citizen would be able to partake and benefit from the physical activity, promoting healthier lifestyles and aiding in the prevention of obesity in Delhi."
        },
        {
            "cell_type": "markdown",
            "metadata": {},
            "source": "# Data"
        },
        {
            "cell_type": "markdown",
            "metadata": {},
            "source": "To work on this bussiness model we require data of Delhi neighborhood and their coordinates.As this will tell us about which neighborhoods to target the primarily and also help us to know nearby places.\n\nThis data will also helps us in clustering the data and by searching the nearby places we can check for neighborhood those who doesn't have gym in around them.\n\nNearby places will be accessed by using Foursquare api.\n\nLink for the Delhi neighbourhood data :- https://github.com/GaurvJoshi/Coursera-Capstone/blob/master/delhi_dataSet.csv"
        },
        {
            "cell_type": "code",
            "execution_count": null,
            "metadata": {},
            "outputs": [],
            "source": ""
        }
    ],
    "metadata": {
        "kernelspec": {
            "display_name": "Python 3.6",
            "language": "python",
            "name": "python3"
        },
        "language_info": {
            "codemirror_mode": {
                "name": "ipython",
                "version": 3
            },
            "file_extension": ".py",
            "mimetype": "text/x-python",
            "name": "python",
            "nbconvert_exporter": "python",
            "pygments_lexer": "ipython3",
            "version": "3.6.9"
        }
    },
    "nbformat": 4,
    "nbformat_minor": 1
}